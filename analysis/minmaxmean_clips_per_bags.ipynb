{
 "cells": [
  {
   "cell_type": "code",
   "execution_count": 59,
   "id": "d17dc4d8",
   "metadata": {},
   "outputs": [],
   "source": [
    "import os\n",
    "import numpy as np\n",
    "import pandas as pd"
   ]
  },
  {
   "cell_type": "code",
   "execution_count": 60,
   "id": "00e589aa",
   "metadata": {},
   "outputs": [],
   "source": [
    "pets_train_path = f\"/media/dev/LaCie/MC-VAD-MIL-DATA/center-crop/pets2009-relabeled-i3d/pets2009-combine-seed-1-train-view-002.npy\"\n",
    "pets_test_path = f\"/media/dev/LaCie/MC-VAD-MIL-DATA/center-crop/pets2009-relabeled-i3d/pets2009-combine-seed-1-test-view-002.npy\"\n",
    "\n",
    "upfall_train_path = f\"/media/dev/LaCie/MC-VAD-MIL-DATA/center-crop/upfall-i3d/upfall-combine-train-single-camera-c1-seed1.npy\"\n",
    "upfall_test_path = f\"/media/dev/LaCie/MC-VAD-MIL-DATA/center-crop/upfall-i3d/upfall-combine-test-single-camera-c1-seed1.npy\"\n",
    "\n",
    "hqfs_train_path = f\"/media/dev/LaCie/MC-VAD-MIL-DATA/center-crop/hqfs-relabeled-i3d/hqfs-i3d-rgb-train-cam2.npy\"\n",
    "hqfs_test_path =  f\"/media/dev/LaCie/MC-VAD-MIL-DATA/center-crop/hqfs-relabeled-i3d/hqfs-i3d-rgb-test-cam2.npy\""
   ]
  },
  {
   "cell_type": "code",
   "execution_count": 61,
   "id": "59ae0b5d",
   "metadata": {},
   "outputs": [],
   "source": [
    "pets_train_bags = np.load(pets_train_path, allow_pickle = True)\n",
    "pets_test_bags = np.load(pets_test_path, allow_pickle = True)\n",
    "\n",
    "upfall_train_bags = np.load(upfall_train_path, allow_pickle = True)\n",
    "upfall_test_bags = np.load(upfall_test_path, allow_pickle = True)\n",
    "\n",
    "hqfs_train_bags = np.load(hqfs_train_path, allow_pickle = True)\n",
    "hqfs_test_bags = np.load(hqfs_test_path, allow_pickle = True)\n",
    "\n",
    "tmp_data = list()\n",
    "tmp_index = list()"
   ]
  },
  {
   "cell_type": "code",
   "execution_count": 62,
   "id": "33395b4c",
   "metadata": {},
   "outputs": [],
   "source": [
    "clips_count = [b[\"X_i\"].shape[0] for b in pets_train_bags]\n",
    "tmp_data.append([min(clips_count), int(np.mean(clips_count)),max(clips_count)])\n",
    "tmp_index.append(\"Pets (Train)\")"
   ]
  },
  {
   "cell_type": "code",
   "execution_count": 63,
   "id": "0e0eb7ca",
   "metadata": {},
   "outputs": [],
   "source": [
    "clips_count = [b[\"X_i\"].shape[0] for b in pets_test_bags]\n",
    "tmp_data.append([min(clips_count), int(np.mean(clips_count)),max(clips_count)])\n",
    "tmp_index.append(\"Pets (Test)\")"
   ]
  },
  {
   "cell_type": "code",
   "execution_count": 64,
   "id": "0066b2a1",
   "metadata": {},
   "outputs": [],
   "source": [
    "clips_count = [b[\"X_i\"].shape[0] for b in upfall_train_bags]\n",
    "tmp_data.append([min(clips_count), int(np.mean(clips_count)),max(clips_count)])\n",
    "tmp_index.append(\"UpFall (Train)\")"
   ]
  },
  {
   "cell_type": "code",
   "execution_count": 65,
   "id": "4c68c0fb",
   "metadata": {},
   "outputs": [],
   "source": [
    "clips_count = [b[\"X_i\"].shape[0] for b in upfall_test_bags]\n",
    "tmp_data.append([min(clips_count), int(np.mean(clips_count)),max(clips_count)])\n",
    "tmp_index.append(\"UpFall (Test)\")"
   ]
  },
  {
   "cell_type": "code",
   "execution_count": 66,
   "id": "509b77b9-b8ca-4b31-b6ec-f36de0810907",
   "metadata": {},
   "outputs": [],
   "source": [
    "clips_count = [b[\"X_i\"].shape[0] for b in hqfs_train_bags]\n",
    "tmp_data.append([min(clips_count), int(np.mean(clips_count)),max(clips_count)])\n",
    "tmp_index.append(\"Hqfs (Train)\")"
   ]
  },
  {
   "cell_type": "code",
   "execution_count": 67,
   "id": "3f7450a0-8bb4-450c-8b89-db02ec231dae",
   "metadata": {},
   "outputs": [],
   "source": [
    "clips_count = [b[\"X_i\"].shape[0] for b in hqfs_test_bags]\n",
    "tmp_data.append([min(clips_count), int(np.mean(clips_count)),max(clips_count)])\n",
    "tmp_index.append(\"Hqfs (Test)\")"
   ]
  },
  {
   "cell_type": "code",
   "execution_count": 13,
   "id": "bbce300d",
   "metadata": {},
   "outputs": [
    {
     "data": {
      "text/html": [
       "<div>\n",
       "<style scoped>\n",
       "    .dataframe tbody tr th:only-of-type {\n",
       "        vertical-align: middle;\n",
       "    }\n",
       "\n",
       "    .dataframe tbody tr th {\n",
       "        vertical-align: top;\n",
       "    }\n",
       "\n",
       "    .dataframe thead th {\n",
       "        text-align: right;\n",
       "    }\n",
       "</style>\n",
       "<table border=\"1\" class=\"dataframe\">\n",
       "  <thead>\n",
       "    <tr style=\"text-align: right;\">\n",
       "      <th></th>\n",
       "      <th>Min Clips per Video Bag</th>\n",
       "      <th>Mean Clips per Video Bag</th>\n",
       "      <th>Max Clips per Video Bag</th>\n",
       "    </tr>\n",
       "  </thead>\n",
       "  <tbody>\n",
       "    <tr>\n",
       "      <th>Pets (Train)</th>\n",
       "      <td>6</td>\n",
       "      <td>19</td>\n",
       "      <td>53</td>\n",
       "    </tr>\n",
       "    <tr>\n",
       "      <th>Pets (Test)</th>\n",
       "      <td>6</td>\n",
       "      <td>19</td>\n",
       "      <td>50</td>\n",
       "    </tr>\n",
       "    <tr>\n",
       "      <th>UpFall (Train)</th>\n",
       "      <td>8</td>\n",
       "      <td>32</td>\n",
       "      <td>71</td>\n",
       "    </tr>\n",
       "    <tr>\n",
       "      <th>UpFall (Test)</th>\n",
       "      <td>9</td>\n",
       "      <td>32</td>\n",
       "      <td>71</td>\n",
       "    </tr>\n",
       "    <tr>\n",
       "      <th>HQFS (Train)</th>\n",
       "      <td>103</td>\n",
       "      <td>823</td>\n",
       "      <td>4462</td>\n",
       "    </tr>\n",
       "    <tr>\n",
       "      <th>HQFS (Train)</th>\n",
       "      <td>92</td>\n",
       "      <td>842</td>\n",
       "      <td>3993</td>\n",
       "    </tr>\n",
       "  </tbody>\n",
       "</table>\n",
       "</div>"
      ],
      "text/plain": [
       "                Min Clips per Video Bag  Mean Clips per Video Bag  \\\n",
       "Pets (Train)                          6                        19   \n",
       "Pets (Test)                           6                        19   \n",
       "UpFall (Train)                        8                        32   \n",
       "UpFall (Test)                         9                        32   \n",
       "HQFS (Train)                        103                       823   \n",
       "HQFS (Train)                         92                       842   \n",
       "\n",
       "                Max Clips per Video Bag  \n",
       "Pets (Train)                         53  \n",
       "Pets (Test)                          50  \n",
       "UpFall (Train)                       71  \n",
       "UpFall (Test)                        71  \n",
       "HQFS (Train)                       4462  \n",
       "HQFS (Train)                       3993  "
      ]
     },
     "execution_count": 13,
     "metadata": {},
     "output_type": "execute_result"
    }
   ],
   "source": [
    "pd.DataFrame(data = tmp_data, index = tmp_index, \n",
    "             columns = [\"Min Clips per Video Bag\", \"Mean Clips per Video Bag\", \"Max Clips per Video Bag\"])"
   ]
  },
  {
   "cell_type": "code",
   "execution_count": 68,
   "id": "5bd1b5bb-86d8-40bf-bb61-b4be8badbfae",
   "metadata": {},
   "outputs": [
    {
     "data": {
      "text/html": [
       "<div>\n",
       "<style scoped>\n",
       "    .dataframe tbody tr th:only-of-type {\n",
       "        vertical-align: middle;\n",
       "    }\n",
       "\n",
       "    .dataframe tbody tr th {\n",
       "        vertical-align: top;\n",
       "    }\n",
       "\n",
       "    .dataframe thead th {\n",
       "        text-align: right;\n",
       "    }\n",
       "</style>\n",
       "<table border=\"1\" class=\"dataframe\">\n",
       "  <thead>\n",
       "    <tr style=\"text-align: right;\">\n",
       "      <th></th>\n",
       "      <th>Min Clips per Video Bag</th>\n",
       "      <th>Mean Clips per Video Bag</th>\n",
       "      <th>Max Clips per Video Bag</th>\n",
       "    </tr>\n",
       "  </thead>\n",
       "  <tbody>\n",
       "    <tr>\n",
       "      <th>Pets (Train)</th>\n",
       "      <td>6</td>\n",
       "      <td>19</td>\n",
       "      <td>53</td>\n",
       "    </tr>\n",
       "    <tr>\n",
       "      <th>Pets (Test)</th>\n",
       "      <td>6</td>\n",
       "      <td>19</td>\n",
       "      <td>50</td>\n",
       "    </tr>\n",
       "    <tr>\n",
       "      <th>UpFall (Train)</th>\n",
       "      <td>8</td>\n",
       "      <td>32</td>\n",
       "      <td>71</td>\n",
       "    </tr>\n",
       "    <tr>\n",
       "      <th>UpFall (Test)</th>\n",
       "      <td>9</td>\n",
       "      <td>32</td>\n",
       "      <td>71</td>\n",
       "    </tr>\n",
       "    <tr>\n",
       "      <th>Hqfs (Train)</th>\n",
       "      <td>103</td>\n",
       "      <td>823</td>\n",
       "      <td>4462</td>\n",
       "    </tr>\n",
       "    <tr>\n",
       "      <th>Hqfs (Test)</th>\n",
       "      <td>92</td>\n",
       "      <td>842</td>\n",
       "      <td>3993</td>\n",
       "    </tr>\n",
       "  </tbody>\n",
       "</table>\n",
       "</div>"
      ],
      "text/plain": [
       "                Min Clips per Video Bag  Mean Clips per Video Bag  \\\n",
       "Pets (Train)                          6                        19   \n",
       "Pets (Test)                           6                        19   \n",
       "UpFall (Train)                        8                        32   \n",
       "UpFall (Test)                         9                        32   \n",
       "Hqfs (Train)                        103                       823   \n",
       "Hqfs (Test)                          92                       842   \n",
       "\n",
       "                Max Clips per Video Bag  \n",
       "Pets (Train)                         53  \n",
       "Pets (Test)                          50  \n",
       "UpFall (Train)                       71  \n",
       "UpFall (Test)                        71  \n",
       "Hqfs (Train)                       4462  \n",
       "Hqfs (Test)                        3993  "
      ]
     },
     "execution_count": 68,
     "metadata": {},
     "output_type": "execute_result"
    }
   ],
   "source": [
    "pd.DataFrame(data = tmp_data, index = tmp_index, \n",
    "             columns = [\"Min Clips per Video Bag\", \"Mean Clips per Video Bag\", \"Max Clips per Video Bag\"])"
   ]
  }
 ],
 "metadata": {
  "kernelspec": {
   "display_name": "Python 3 (ipykernel)",
   "language": "python",
   "name": "python3"
  },
  "language_info": {
   "codemirror_mode": {
    "name": "ipython",
    "version": 3
   },
   "file_extension": ".py",
   "mimetype": "text/x-python",
   "name": "python",
   "nbconvert_exporter": "python",
   "pygments_lexer": "ipython3",
   "version": "3.9.21"
  }
 },
 "nbformat": 4,
 "nbformat_minor": 5
}
